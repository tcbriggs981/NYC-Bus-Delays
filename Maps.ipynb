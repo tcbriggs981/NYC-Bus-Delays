{
 "cells": [
  {
   "cell_type": "code",
   "execution_count": 7,
   "metadata": {},
   "outputs": [],
   "source": [
    "import numpy as np\n",
    "import pandas as pd\n",
    "import matplotlib.pyplot as plt\n",
    "import seaborn as sns\n",
    "import re\n",
    "import scipy\n",
    "import spacy\n",
    "from collections import Counter\n",
    "%matplotlib inline\n",
    "sns.set_style(\"darkgrid\")\n",
    "colors = ['#651FFF', '#00B0FF', '#1DE9B6', '#00E676', '#FF9100', '#FF3D00']\n",
    "sns.set_palette(colors)"
   ]
  },
  {
   "cell_type": "code",
   "execution_count": 8,
   "metadata": {},
   "outputs": [],
   "source": [
    "bus = pd.read_csv('data/mta_1710.csv', low_memory=False, usecols=['RecordedAtTime','DirectionRef','PublishedLineName','OriginName','OriginLat','OriginLong','DestinationName','DestinationLat','DestinationLong','VehicleRef','VehicleLocation.Latitude','VehicleLocation.Longitude',\n",
    "                                                          'NextStopPointName','ArrivalProximityText','DistanceFromStop','ExpectedArrivalTime','ScheduledArrivalTime'])"
   ]
  },
  {
   "cell_type": "code",
   "execution_count": 9,
   "metadata": {},
   "outputs": [],
   "source": [
    "bus = bus.dropna()\n",
    "\n",
    "bus['RecordedAtDateTime'] = pd.to_datetime(bus['RecordedAtTime'])\n",
    "bus['day_of_week'] = bus['RecordedAtDateTime'].dt.dayofweek\n",
    "bus['RecordedAtTime'] = bus['RecordedAtDateTime'].dt.time\n",
    "bus['date'] = bus['RecordedAtDateTime'].dt.date"
   ]
  },
  {
   "cell_type": "code",
   "execution_count": 10,
   "metadata": {},
   "outputs": [],
   "source": [
    "# DONT RUN THIS TWICE, WILL BREAK THE TIME\n",
    "bus['ExpectedArrivalTime'] = pd.to_datetime(bus['ExpectedArrivalTime'], errors='coerce', utc=True)\n",
    "bus['ExpectedArrivalTime'].head()\n",
    "\n",
    "bus['ExpectedArrivalTime'] = pd.to_datetime(bus['ExpectedArrivalTime'], errors='coerce', utc=True)\n",
    "sch_hours = pd.DataFrame()\n",
    "sch_hours['hour'] = bus['ExpectedArrivalTime'].dt.hour\n",
    "sch_hours['min'] = bus['ExpectedArrivalTime'].dt.minute\n",
    "\n",
    "sch_hours['time'] = sch_hours['hour'].astype(str).str.cat(sch_hours['min'].astype(str))\n",
    "sch_hours['time'] = sch_hours['time'].str.replace('.0','')\n",
    "sch_hours['time'] = pd.to_numeric(sch_hours['time'], errors='coerce')"
   ]
  },
  {
   "cell_type": "code",
   "execution_count": 11,
   "metadata": {},
   "outputs": [],
   "source": [
    "bus['ExpectedArrivalTime'] = sch_hours['time']"
   ]
  },
  {
   "cell_type": "markdown",
   "metadata": {},
   "source": [
    "___"
   ]
  },
  {
   "cell_type": "code",
   "execution_count": 12,
   "metadata": {},
   "outputs": [],
   "source": [
    "# DONT RUN THIS TWICE, WILL BREAK THE TIME\n",
    "bus['ScheduledArrivalTime'] = pd.to_datetime(bus['ScheduledArrivalTime'], errors='coerce', utc=True)\n",
    "sch_hours2 = pd.DataFrame()\n",
    "sch_hours2['hour'] = bus['ScheduledArrivalTime'].dt.hour\n",
    "sch_hours2['min'] = bus['ScheduledArrivalTime'].dt.minute\n",
    "\n",
    "sch_hours2['time'] = sch_hours2['hour'].astype(str).str.cat(sch_hours2['min'].astype(str))\n",
    "sch_hours2['time'] = sch_hours2['time'].str.replace('.0','')\n",
    "sch_hours2['time'] = pd.to_numeric(sch_hours2['time'], errors='coerce')"
   ]
  },
  {
   "cell_type": "code",
   "execution_count": 13,
   "metadata": {},
   "outputs": [],
   "source": [
    "bus['ScheduledArrivalTime'] = sch_hours2['time']"
   ]
  },
  {
   "cell_type": "markdown",
   "metadata": {},
   "source": [
    "___"
   ]
  },
  {
   "cell_type": "code",
   "execution_count": 14,
   "metadata": {},
   "outputs": [],
   "source": [
    "# DONT RUN THIS TWICE, WILL BREAK THE TIME\n",
    "rec_hours = pd.DataFrame()\n",
    "rec_hours['hour'] = bus['RecordedAtDateTime'].dt.hour\n",
    "rec_hours['min'] = bus['RecordedAtDateTime'].dt.minute\n",
    "\n",
    "rec_hours['time'] = rec_hours['hour'].astype(str).str.cat(rec_hours['min'].astype(str))\n",
    "rec_hours['time'] = rec_hours['time'].str.replace('.0','')\n",
    "rec_hours['time'] = pd.to_numeric(rec_hours['time'], errors='coerce')"
   ]
  },
  {
   "cell_type": "code",
   "execution_count": 15,
   "metadata": {},
   "outputs": [],
   "source": [
    "bus['RecordedAtTime'] = rec_hours['time']"
   ]
  },
  {
   "cell_type": "markdown",
   "metadata": {},
   "source": [
    "___"
   ]
  },
  {
   "cell_type": "code",
   "execution_count": 16,
   "metadata": {},
   "outputs": [
    {
     "name": "stderr",
     "output_type": "stream",
     "text": [
      "/usr/local/lib/python3.7/site-packages/pandas/core/indexing.py:189: SettingWithCopyWarning: \n",
      "A value is trying to be set on a copy of a slice from a DataFrame\n",
      "\n",
      "See the caveats in the documentation: http://pandas.pydata.org/pandas-docs/stable/indexing.html#indexing-view-versus-copy\n",
      "  self._setitem_with_indexer(indexer, value)\n"
     ]
    }
   ],
   "source": [
    "bus = bus.dropna()\n",
    "bus['delay'] = bus['ScheduledArrivalTime'] - bus['ExpectedArrivalTime']\n",
    "\n",
    "# Subtract all of the delays greater than two hours by 2360 so as to get them back to a reasonable delay time\n",
    "bus.delay.loc[bus.delay>120] = 2360 - bus.delay.loc[bus.delay>120]\n",
    "\n",
    "bus = bus.drop(bus[bus['delay']>60].index)\n",
    "bus = bus.drop(bus[bus['delay']<-60].index)"
   ]
  },
  {
   "cell_type": "markdown",
   "metadata": {},
   "source": [
    "___"
   ]
  },
  {
   "cell_type": "code",
   "execution_count": 17,
   "metadata": {},
   "outputs": [
    {
     "data": {
      "text/html": [
       "<div>\n",
       "<style scoped>\n",
       "    .dataframe tbody tr th:only-of-type {\n",
       "        vertical-align: middle;\n",
       "    }\n",
       "\n",
       "    .dataframe tbody tr th {\n",
       "        vertical-align: top;\n",
       "    }\n",
       "\n",
       "    .dataframe thead th {\n",
       "        text-align: right;\n",
       "    }\n",
       "</style>\n",
       "<table border=\"1\" class=\"dataframe\">\n",
       "  <thead>\n",
       "    <tr style=\"text-align: right;\">\n",
       "      <th></th>\n",
       "      <th>RecordedAtTime</th>\n",
       "      <th>DirectionRef</th>\n",
       "      <th>PublishedLineName</th>\n",
       "      <th>OriginName</th>\n",
       "      <th>OriginLat</th>\n",
       "      <th>OriginLong</th>\n",
       "      <th>DestinationName</th>\n",
       "      <th>DestinationLat</th>\n",
       "      <th>DestinationLong</th>\n",
       "      <th>VehicleRef</th>\n",
       "      <th>...</th>\n",
       "      <th>NextStopPointName</th>\n",
       "      <th>ArrivalProximityText</th>\n",
       "      <th>DistanceFromStop</th>\n",
       "      <th>ExpectedArrivalTime</th>\n",
       "      <th>ScheduledArrivalTime</th>\n",
       "      <th>RecordedAtDateTime</th>\n",
       "      <th>day_of_week</th>\n",
       "      <th>date</th>\n",
       "      <th>delay</th>\n",
       "      <th>on_time</th>\n",
       "    </tr>\n",
       "  </thead>\n",
       "  <tbody>\n",
       "    <tr>\n",
       "      <th>1</th>\n",
       "      <td>3.0</td>\n",
       "      <td>0</td>\n",
       "      <td>Q58</td>\n",
       "      <td>PALMETTO ST/MYRTLE AV</td>\n",
       "      <td>40.700178</td>\n",
       "      <td>-73.910254</td>\n",
       "      <td>FLUSHING MAIN ST</td>\n",
       "      <td>40.757344</td>\n",
       "      <td>-73.829362</td>\n",
       "      <td>NYCT_3967</td>\n",
       "      <td>...</td>\n",
       "      <td>108 ST/OTIS AV</td>\n",
       "      <td>approaching</td>\n",
       "      <td>131</td>\n",
       "      <td>4.0</td>\n",
       "      <td>2333.0</td>\n",
       "      <td>2017-10-01 00:03:32</td>\n",
       "      <td>6</td>\n",
       "      <td>2017-10-01</td>\n",
       "      <td>31.0</td>\n",
       "      <td>0</td>\n",
       "    </tr>\n",
       "    <tr>\n",
       "      <th>2</th>\n",
       "      <td>3.0</td>\n",
       "      <td>0</td>\n",
       "      <td>M15</td>\n",
       "      <td>SOUTH ST/WHITEHALL ST</td>\n",
       "      <td>40.701536</td>\n",
       "      <td>-74.012485</td>\n",
       "      <td>EAST HARLEM 125 ST via 1 AV</td>\n",
       "      <td>40.803150</td>\n",
       "      <td>-73.932264</td>\n",
       "      <td>NYCT_5912</td>\n",
       "      <td>...</td>\n",
       "      <td>1 AV/E 77 ST</td>\n",
       "      <td>approaching</td>\n",
       "      <td>135</td>\n",
       "      <td>4.0</td>\n",
       "      <td>2351.0</td>\n",
       "      <td>2017-10-01 00:03:29</td>\n",
       "      <td>6</td>\n",
       "      <td>2017-10-01</td>\n",
       "      <td>13.0</td>\n",
       "      <td>0</td>\n",
       "    </tr>\n",
       "    <tr>\n",
       "      <th>4</th>\n",
       "      <td>3.0</td>\n",
       "      <td>0</td>\n",
       "      <td>B6</td>\n",
       "      <td>HARWAY AV/BAY 37 ST</td>\n",
       "      <td>40.593510</td>\n",
       "      <td>-73.993996</td>\n",
       "      <td>EAST NY NEW LOTS STA</td>\n",
       "      <td>40.666420</td>\n",
       "      <td>-73.883387</td>\n",
       "      <td>NYCT_5110</td>\n",
       "      <td>...</td>\n",
       "      <td>FLATLANDS AV/RALPH AV</td>\n",
       "      <td>&lt; 1 stop away</td>\n",
       "      <td>271</td>\n",
       "      <td>4.0</td>\n",
       "      <td>2347.0</td>\n",
       "      <td>2017-10-01 00:03:22</td>\n",
       "      <td>6</td>\n",
       "      <td>2017-10-01</td>\n",
       "      <td>17.0</td>\n",
       "      <td>0</td>\n",
       "    </tr>\n",
       "  </tbody>\n",
       "</table>\n",
       "<p>3 rows × 22 columns</p>\n",
       "</div>"
      ],
      "text/plain": [
       "   RecordedAtTime  DirectionRef PublishedLineName             OriginName  \\\n",
       "1             3.0             0               Q58  PALMETTO ST/MYRTLE AV   \n",
       "2             3.0             0               M15  SOUTH ST/WHITEHALL ST   \n",
       "4             3.0             0                B6    HARWAY AV/BAY 37 ST   \n",
       "\n",
       "   OriginLat  OriginLong              DestinationName  DestinationLat  \\\n",
       "1  40.700178  -73.910254             FLUSHING MAIN ST       40.757344   \n",
       "2  40.701536  -74.012485  EAST HARLEM 125 ST via 1 AV       40.803150   \n",
       "4  40.593510  -73.993996         EAST NY NEW LOTS STA       40.666420   \n",
       "\n",
       "   DestinationLong VehicleRef   ...        NextStopPointName  \\\n",
       "1       -73.829362  NYCT_3967   ...           108 ST/OTIS AV   \n",
       "2       -73.932264  NYCT_5912   ...             1 AV/E 77 ST   \n",
       "4       -73.883387  NYCT_5110   ...    FLATLANDS AV/RALPH AV   \n",
       "\n",
       "   ArrivalProximityText DistanceFromStop ExpectedArrivalTime  \\\n",
       "1           approaching              131                 4.0   \n",
       "2           approaching              135                 4.0   \n",
       "4         < 1 stop away              271                 4.0   \n",
       "\n",
       "  ScheduledArrivalTime  RecordedAtDateTime  day_of_week        date  delay  \\\n",
       "1               2333.0 2017-10-01 00:03:32            6  2017-10-01   31.0   \n",
       "2               2351.0 2017-10-01 00:03:29            6  2017-10-01   13.0   \n",
       "4               2347.0 2017-10-01 00:03:22            6  2017-10-01   17.0   \n",
       "\n",
       "  on_time  \n",
       "1       0  \n",
       "2       0  \n",
       "4       0  \n",
       "\n",
       "[3 rows x 22 columns]"
      ]
     },
     "execution_count": 17,
     "metadata": {},
     "output_type": "execute_result"
    }
   ],
   "source": [
    "# https://docs.google.com/spreadsheets/d/1WqLV3EeCMOZwi0oZdYICkuvN86N0S4QGTMvbhS8UU0E/edit#gid=0\n",
    "bus['on_time'] = np.where((bus['delay'] > 5) | (bus['delay'] < -1), 0, 1)\n",
    "bus.head(3)"
   ]
  },
  {
   "cell_type": "code",
   "execution_count": null,
   "metadata": {},
   "outputs": [],
   "source": []
  },
  {
   "cell_type": "code",
   "execution_count": 39,
   "metadata": {},
   "outputs": [],
   "source": [
    "bus_s = bus.sample(frac=1, random_state=1)\n",
    "\n",
    "ontime = bus_s.loc[bus['on_time']==1][:10000]\n",
    "offtime = bus_s.loc[bus['on_time']==0][:10000]\n",
    "\n",
    "bus = pd.concat([ontime, offtime])\n",
    "bus = bus.sample(frac=1, random_state=40)"
   ]
  },
  {
   "cell_type": "markdown",
   "metadata": {},
   "source": [
    "___"
   ]
  },
  {
   "cell_type": "code",
   "execution_count": 19,
   "metadata": {},
   "outputs": [
    {
     "data": {
      "text/plain": [
       "Index(['RecordedAtTime', 'DirectionRef', 'PublishedLineName', 'OriginName',\n",
       "       'OriginLat', 'OriginLong', 'DestinationName', 'DestinationLat',\n",
       "       'DestinationLong', 'VehicleRef', 'VehicleLocation.Latitude',\n",
       "       'VehicleLocation.Longitude', 'NextStopPointName',\n",
       "       'ArrivalProximityText', 'DistanceFromStop', 'ExpectedArrivalTime',\n",
       "       'ScheduledArrivalTime', 'RecordedAtDateTime', 'day_of_week', 'date',\n",
       "       'delay', 'on_time'],\n",
       "      dtype='object')"
      ]
     },
     "execution_count": 19,
     "metadata": {},
     "output_type": "execute_result"
    }
   ],
   "source": [
    "bus.columns"
   ]
  },
  {
   "cell_type": "code",
   "execution_count": 33,
   "metadata": {},
   "outputs": [
    {
     "data": {
      "text/html": [
       "<div>\n",
       "<style scoped>\n",
       "    .dataframe tbody tr th:only-of-type {\n",
       "        vertical-align: middle;\n",
       "    }\n",
       "\n",
       "    .dataframe tbody tr th {\n",
       "        vertical-align: top;\n",
       "    }\n",
       "\n",
       "    .dataframe thead th {\n",
       "        text-align: right;\n",
       "    }\n",
       "</style>\n",
       "<table border=\"1\" class=\"dataframe\">\n",
       "  <thead>\n",
       "    <tr style=\"text-align: right;\">\n",
       "      <th></th>\n",
       "      <th>RecordedAtTime</th>\n",
       "      <th>DirectionRef</th>\n",
       "      <th>PublishedLineName</th>\n",
       "      <th>OriginName</th>\n",
       "      <th>OriginLat</th>\n",
       "      <th>OriginLong</th>\n",
       "      <th>DestinationName</th>\n",
       "      <th>DestinationLat</th>\n",
       "      <th>DestinationLong</th>\n",
       "      <th>VehicleRef</th>\n",
       "      <th>...</th>\n",
       "      <th>ArrivalProximityText</th>\n",
       "      <th>DistanceFromStop</th>\n",
       "      <th>ExpectedArrivalTime</th>\n",
       "      <th>ScheduledArrivalTime</th>\n",
       "      <th>RecordedAtDateTime</th>\n",
       "      <th>day_of_week</th>\n",
       "      <th>date</th>\n",
       "      <th>delay</th>\n",
       "      <th>on_time</th>\n",
       "      <th>delay_code</th>\n",
       "    </tr>\n",
       "  </thead>\n",
       "  <tbody>\n",
       "    <tr>\n",
       "      <th>3259508</th>\n",
       "      <td>64.0</td>\n",
       "      <td>0</td>\n",
       "      <td>S44</td>\n",
       "      <td>YUKON AV/KMART DWY</td>\n",
       "      <td>40.575645</td>\n",
       "      <td>-74.167150</td>\n",
       "      <td>ST GEORGE FERRY</td>\n",
       "      <td>40.643743</td>\n",
       "      <td>-74.073214</td>\n",
       "      <td>NYCT_8309</td>\n",
       "      <td>...</td>\n",
       "      <td>&lt; 1 stop away</td>\n",
       "      <td>186</td>\n",
       "      <td>64.0</td>\n",
       "      <td>65.0</td>\n",
       "      <td>2017-10-16 06:04:07</td>\n",
       "      <td>0</td>\n",
       "      <td>2017-10-16</td>\n",
       "      <td>1.0</td>\n",
       "      <td>1</td>\n",
       "      <td>1</td>\n",
       "    </tr>\n",
       "    <tr>\n",
       "      <th>5579387</th>\n",
       "      <td>642.0</td>\n",
       "      <td>0</td>\n",
       "      <td>B82</td>\n",
       "      <td>STILLWELL TERMINAL BUS LOOP</td>\n",
       "      <td>40.577079</td>\n",
       "      <td>-73.981296</td>\n",
       "      <td>SPRING CRK TWRS SEAVIEW AV via KINGS HWY</td>\n",
       "      <td>40.642991</td>\n",
       "      <td>-73.878325</td>\n",
       "      <td>NYCT_4835</td>\n",
       "      <td>...</td>\n",
       "      <td>approaching</td>\n",
       "      <td>53</td>\n",
       "      <td>643.0</td>\n",
       "      <td>625.0</td>\n",
       "      <td>2017-10-26 06:42:49</td>\n",
       "      <td>3</td>\n",
       "      <td>2017-10-26</td>\n",
       "      <td>-18.0</td>\n",
       "      <td>0</td>\n",
       "      <td>4</td>\n",
       "    </tr>\n",
       "  </tbody>\n",
       "</table>\n",
       "<p>2 rows × 23 columns</p>\n",
       "</div>"
      ],
      "text/plain": [
       "         RecordedAtTime  DirectionRef PublishedLineName  \\\n",
       "3259508            64.0             0               S44   \n",
       "5579387           642.0             0               B82   \n",
       "\n",
       "                          OriginName  OriginLat  OriginLong  \\\n",
       "3259508           YUKON AV/KMART DWY  40.575645  -74.167150   \n",
       "5579387  STILLWELL TERMINAL BUS LOOP  40.577079  -73.981296   \n",
       "\n",
       "                                  DestinationName  DestinationLat  \\\n",
       "3259508                           ST GEORGE FERRY       40.643743   \n",
       "5579387  SPRING CRK TWRS SEAVIEW AV via KINGS HWY       40.642991   \n",
       "\n",
       "         DestinationLong VehicleRef    ...      ArrivalProximityText  \\\n",
       "3259508       -74.073214  NYCT_8309    ...             < 1 stop away   \n",
       "5579387       -73.878325  NYCT_4835    ...               approaching   \n",
       "\n",
       "         DistanceFromStop ExpectedArrivalTime ScheduledArrivalTime  \\\n",
       "3259508               186                64.0                 65.0   \n",
       "5579387                53               643.0                625.0   \n",
       "\n",
       "         RecordedAtDateTime  day_of_week        date delay  on_time delay_code  \n",
       "3259508 2017-10-16 06:04:07            0  2017-10-16   1.0        1          1  \n",
       "5579387 2017-10-26 06:42:49            3  2017-10-26 -18.0        0          4  \n",
       "\n",
       "[2 rows x 23 columns]"
      ]
     },
     "execution_count": 33,
     "metadata": {},
     "output_type": "execute_result"
    }
   ],
   "source": [
    "bus['delay_code'] = np.where(bus['on_time']==1, 1,\n",
    "                            np.where((((-1 > bus.delay) & (bus.delay >= -10))|((5 < bus.delay)& (bus.delay <= 10))), 2,\n",
    "                                    np.where((((-10 > bus.delay)& (bus.delay >= -15))|((10 < bus.delay) & (bus.delay <= 15))), 3, 4)))\n",
    "bus.head(2)         "
   ]
  },
  {
   "cell_type": "code",
   "execution_count": 44,
   "metadata": {},
   "outputs": [],
   "source": [
    "#Import Library\n",
    "import folium\n",
    "from folium.plugins import MarkerCluster\n",
    "\n",
    "lat = bus['VehicleLocation.Latitude']\n",
    "lon = bus['VehicleLocation.Longitude']\n",
    "delays = bus['delay']\n",
    "delay_code = bus['delay_code']\n",
    "\n",
    "# add color change for map\n",
    "def color_change(code):\n",
    "    if(code == 1):\n",
    "        return('green')\n",
    "    elif(code == 2):\n",
    "        return('yellow')\n",
    "    elif(code == 3):\n",
    "        return('orange')\n",
    "    else:\n",
    "        return('red')\n",
    "\n",
    "#Create base map\n",
    "map = folium.Map(location=[40.7590,-73.9845], zoom_start = 13, tiles = \"CartoDB dark_matter\")\n",
    "\n",
    "#Create Cluster\n",
    "marker_cluster = MarkerCluster().add_to(map)\n",
    "\n",
    "#Add Marker\n",
    "#Plot Markers\n",
    "for lat, lon, delays, delay_code in zip(lat, lon, delays, delay_code):\n",
    "    folium.CircleMarker(location=[lat, lon], radius = 1, popup=str(delays)+\" min\", fill_color=color_change(delay_code), color=color_change(delay_code), fill_opacity = 0.9).add_to(map)\n",
    "\n",
    "#Save the map\n",
    "map.save(\"map1.html\")"
   ]
  },
  {
   "cell_type": "code",
   "execution_count": null,
   "metadata": {},
   "outputs": [],
   "source": []
  }
 ],
 "metadata": {
  "kernelspec": {
   "display_name": "Python 3",
   "language": "python",
   "name": "python3"
  },
  "language_info": {
   "codemirror_mode": {
    "name": "ipython",
    "version": 3
   },
   "file_extension": ".py",
   "mimetype": "text/x-python",
   "name": "python",
   "nbconvert_exporter": "python",
   "pygments_lexer": "ipython3",
   "version": "3.7.0"
  }
 },
 "nbformat": 4,
 "nbformat_minor": 2
}
